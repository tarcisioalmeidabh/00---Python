{
  "cells": [
    {
      "cell_type": "markdown",
      "metadata": {
        "id": "KJqp9AANOCtf"
      },
      "source": [
        "<img src=\"https://raw.githubusercontent.com/andre-marcos-perez/ebac-course-utils/main/media/logo/newebac_logo_black_half.png\" alt=\"ebac-logo\">\n",
        "\n",
        "---\n",
        "\n",
        "# **Módulo 02** | Python: Estruturas de Dados\n",
        "Caderno de **Exercícios**<br> \n",
        "Professor [André Perez](https://www.linkedin.com/in/andremarcosperez/)\n",
        "\n",
        "---"
      ]
    },
    {
      "cell_type": "markdown",
      "metadata": {
        "id": "d9jDtUbDOE1-"
      },
      "source": [
        "# **Tópicos**\n",
        "\n",
        "<ol type=\"1\">\n",
        "  <li>Listas;</li>\n",
        "  <li>Conjuntos;</li>\n",
        "  <li>Dicionários.</li>\n",
        "</ol>"
      ]
    },
    {
      "cell_type": "markdown",
      "metadata": {
        "id": "SmoHgt-lwkpD"
      },
      "source": [
        "---"
      ]
    },
    {
      "cell_type": "markdown",
      "metadata": {
        "id": "GABI6OW8OfQ2"
      },
      "source": [
        "# **Exercícios**"
      ]
    },
    {
      "cell_type": "markdown",
      "metadata": {
        "id": "muD1vxozykSC"
      },
      "source": [
        "## 1\\. Listas"
      ]
    },
    {
      "cell_type": "markdown",
      "metadata": {
        "id": "ahrFfCuBxJKs"
      },
      "source": [
        "Criei uma lista chamada `filmes` com o nome dos 10 primeiros filmes mais bem avaliados no site no [IMDB](https://www.imdb.com/chart/top/). Imprima o resultado."
      ]
    },
    {
      "cell_type": "code",
      "execution_count": 21,
      "metadata": {
        "id": "OgL6Hv3bzOHI"
      },
      "outputs": [
        {
          "name": "stdout",
          "output_type": "stream",
          "text": [
            "['Um sonho de liberdade', 'O poderoso chefão', 'Batman: O cavaleiro das trevas', 'O poderoso chefão II', '12 homens e uma sentença', 'A lista de Schindler', 'O senhor dos anéis: O retorno do rei', 'Pulp fiction: Tempo de violência', 'O senhor dos anéis: A sociedade do anel', 'Três homens em conflito']\n"
          ]
        }
      ],
      "source": [
        "top_10 = [\"Um sonho de liberdade\", \"O poderoso chefão\", \"Batman: O cavaleiro das trevas\", \"O poderoso chefão II\", \"12 homens e uma sentença\", \"A lista de Schindler\", \"O senhor dos anéis: O retorno do rei\", \"Pulp fiction: Tempo de violência\", \"O senhor dos anéis: A sociedade do anel\", \"Três homens em conflito\"]\n",
        "print(top_10)"
      ]
    },
    {
      "cell_type": "markdown",
      "metadata": {
        "id": "KI9zQRT2xa7m"
      },
      "source": [
        "Simule a movimentação do *ranking*. Utilize os métodos `insert` e `pop` para trocar a posição do primeiro e do segundo filme da lista. Imprima o resultado.\n",
        "\n"
      ]
    },
    {
      "cell_type": "code",
      "execution_count": 40,
      "metadata": {
        "id": "zX3mA3_GzrXH"
      },
      "outputs": [
        {
          "name": "stdout",
          "output_type": "stream",
          "text": [
            "['O poderoso chefão', 'Um sonho de liberdade', 'Batman: O cavaleiro das trevas', 'O poderoso chefão II', '12 homens e uma sentença', 'A lista de Schindler', 'O senhor dos anéis: O retorno do rei', 'Pulp fiction: Tempo de violência', 'O senhor dos anéis: A sociedade do anel', 'Três homens em conflito', [7], [8], [9], [7], [8], [9], [7], [8], [9], [7], [8], [9], 'Pulp fiction: Tempo de violência', 'O senhor dos anéis: A sociedade do anel', 'Três homens em conflito', 'Pulp fiction: Tempo de violência', 'O senhor dos anéis: A sociedade do anel', 'Três homens em conflito', 'Pulp fiction: Tempo de violência', 'O senhor dos anéis: A sociedade do anel', 'Três homens em conflito', 'Pulp fiction: Tempo de violência', 'O senhor dos anéis: A sociedade do anel', 'Três homens em conflito', 'Pulp fiction: Tempo de violência', 'O senhor dos anéis: A sociedade do anel', 'Três homens em conflito', 'Pulp fiction: Tempo de violência', 'O senhor dos anéis: A sociedade do anel', 'Três homens em conflito']\n"
          ]
        }
      ],
      "source": [
        "top_10.insert(0, top_10[1])\n",
        "top_10.pop(2)\n",
        "\n",
        "print(top_10)"
      ]
    },
    {
      "cell_type": "markdown",
      "metadata": {
        "id": "zMN1Q3jdwoJm"
      },
      "source": [
        "---"
      ]
    },
    {
      "cell_type": "markdown",
      "metadata": {
        "id": "lxa5L6uF0ZJE"
      },
      "source": [
        "## 2\\. Conjuntos"
      ]
    },
    {
      "cell_type": "markdown",
      "metadata": {
        "id": "9JahS2Kj0d5u"
      },
      "source": [
        "Aconteceu um erro no seu *ranking*. Simule a duplicação dos três últimos filmes da lista. Imprima o resultado."
      ]
    },
    {
      "cell_type": "code",
      "execution_count": null,
      "metadata": {
        "id": "BnjnLBNC6PGe"
      },
      "outputs": [],
      "source": [
        "top_10.append(top_10[7])\n",
        "top_10.append(top_10[8])\n",
        "top_10.append(top_10[9])\n",
        "\n",
        "print(top_10)"
      ]
    },
    {
      "cell_type": "markdown",
      "metadata": {
        "id": "suxTfCJB6ZiX"
      },
      "source": [
        "Utiliza a conversão `set` e `list` para remover os valores duplicados. Imprima o resultado. "
      ]
    },
    {
      "cell_type": "code",
      "execution_count": null,
      "metadata": {
        "id": "ZvUGN-0n6joM"
      },
      "outputs": [],
      "source": []
    },
    {
      "cell_type": "markdown",
      "metadata": {
        "id": "ShkK35eQ6pAM"
      },
      "source": [
        "---"
      ]
    },
    {
      "cell_type": "markdown",
      "metadata": {
        "id": "EL_FzmxL6rTv"
      },
      "source": [
        "## 3\\. Dicionários"
      ]
    },
    {
      "cell_type": "markdown",
      "metadata": {
        "id": "i8l0gFqRCpfT"
      },
      "source": [
        "Repita os exercícios da parte 1 (listas). Os elementos da lista `filmes` devem ser dicionários no seguinte formato: `{'nome': <nome-do-filme>, 'ano': <ano do filme>}, 'sinopse': <sinopse do filme>}`. "
      ]
    }
  ],
  "metadata": {
    "colab": {
      "collapsed_sections": [],
      "name": "module_2_exercise.ipynb",
      "provenance": [],
      "toc_visible": true
    },
    "kernelspec": {
      "display_name": "Python 3.10.7 64-bit",
      "language": "python",
      "name": "python3"
    },
    "language_info": {
      "codemirror_mode": {
        "name": "ipython",
        "version": 3
      },
      "file_extension": ".py",
      "mimetype": "text/x-python",
      "name": "python",
      "nbconvert_exporter": "python",
      "pygments_lexer": "ipython3",
      "version": "3.10.7"
    },
    "vscode": {
      "interpreter": {
        "hash": "9f220e06fb9e9f0d3f5b98a5424fa753c5d3a81232142bf3dcb1d68872457236"
      }
    }
  },
  "nbformat": 4,
  "nbformat_minor": 0
}
